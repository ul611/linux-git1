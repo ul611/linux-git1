{
 "cells": [
  {
   "cell_type": "code",
   "execution_count": null,
   "id": "24dcb611",
   "metadata": {
    "scrolled": true
   },
   "outputs": [],
   "source": [
    "!pip install PyGithub"
   ]
  },
  {
   "cell_type": "code",
   "execution_count": null,
   "id": "19742cf2",
   "metadata": {},
   "outputs": [],
   "source": [
    "!pip install pyramid"
   ]
  },
  {
   "cell_type": "code",
   "execution_count": null,
   "id": "82427593",
   "metadata": {},
   "outputs": [],
   "source": [
    "!pip install telebot"
   ]
  },
  {
   "cell_type": "code",
   "execution_count": null,
   "id": "97748db3",
   "metadata": {},
   "outputs": [],
   "source": [
    "!pip3 uninstall telebot -y\n",
    "!pip3 uninstall PyTelegramBotAPI -y\n",
    "!pip3 install pyTelegramBotAPI -y\n",
    "!pip3 install --upgrade pyTelegramBotAPI -y"
   ]
  },
  {
   "cell_type": "code",
   "execution_count": null,
   "id": "de68f95a",
   "metadata": {
    "scrolled": true
   },
   "outputs": [],
   "source": [
    "from github import Github\n",
    "\n",
    "# First create a Github instance:\n",
    "github_token='VERY-EXAMPLE-GITHUB-TOKEN'\n",
    "\n",
    "# using an access token\n",
    "g = Github(login_or_token=github_token)\n",
    "\n",
    "# # Github Enterprise with custom hostname\n",
    "# g = Github(base_url=\"https://ul611/api/v3\", login_or_token=github_token)\n",
    "\n",
    "# Then play with your Github objects:\n",
    "for repo in g.get_user().get_repos():\n",
    "    print(repo.name)"
   ]
  },
  {
   "cell_type": "code",
   "execution_count": null,
   "id": "f6170622",
   "metadata": {},
   "outputs": [],
   "source": [
    "import os\n",
    "\n",
    "# get evvironment variables\n",
    "AFTER = ''\n",
    "BEFORE = ''\n",
    "AFTER = AFTER[1:].replace('_Некоторые особенности написания кода и запуска популярных юнит-тестов проектов', ''\n",
    "                         ).replace(' на Linux._', '')\n",
    "BEFORE = BEFORE[1:].replace('_Некоторые особенности написания кода и запуска популярных юнит-тестов проектов', ''\n",
    "                           ).replace(' на Linux._', '')\n",
    "\n",
    "# split the string with the names of projects\n",
    "AFTER = set(AFTER.split(', '))\n",
    "BEFORE = set(BEFORE.split(', '))\n",
    "\n",
    "# print added progect name\n",
    "PROJECT_NAME = ', '.join(list(AFTER.difference(BEFORE)))\n",
    "print(PROJECT_NAME)"
   ]
  },
  {
   "cell_type": "code",
   "execution_count": 15,
   "id": "06cd8e5d",
   "metadata": {},
   "outputs": [],
   "source": [
    "import telebot\n",
    "from threading import Timer\n",
    "import requests\n",
    "\n",
    "TOKEN = 'EXAMPLETOKEN'\n",
    "\n",
    "bot = telebot.TeleBot(TOKEN)\n",
    "\n",
    "chat_id = 1000000000  #example chat id, use bots to get this\n",
    "\n",
    "@bot.message_handler(commands=['start'])\n",
    "def start_message(message):\n",
    "    bot.send_message(message.chat.id,\"Привет ✌️ \")\n",
    "bot.polling(none_stop=True)"
   ]
  },
  {
   "cell_type": "code",
   "execution_count": 14,
   "id": "e7dc43cc",
   "metadata": {},
   "outputs": [
    {
     "data": {
      "text/plain": [
       "'2.26.0'"
      ]
     },
     "execution_count": 14,
     "metadata": {},
     "output_type": "execute_result"
    }
   ],
   "source": [
    "requests.__version__"
   ]
  },
  {
   "cell_type": "code",
   "execution_count": 16,
   "id": "ce32138a",
   "metadata": {},
   "outputs": [
    {
     "data": {
      "text/plain": [
       "<Response [200]>"
      ]
     },
     "execution_count": 16,
     "metadata": {},
     "output_type": "execute_result"
    }
   ],
   "source": [
    "import requests\n",
    "\n",
    "project_name = ''\n",
    "action = 'updated in' if 'edited' in project_name else 'added to'\n",
    "\n",
    "\n",
    "requests.get(f'https://api.telegram.org/bot{TOKEN}/sendMessage', params=dict(\n",
    "   chat_id=chat_id,\n",
    "   text=f'Info on tips for 42 project {project_name} was {action} repo'\n",
    "))"
   ]
  },
  {
   "cell_type": "code",
   "execution_count": null,
   "id": "826a8879",
   "metadata": {},
   "outputs": [],
   "source": [
    "bot=telebot.Telebot(TOKEN)\n",
    "@bot.message_handler(commands=['start'])\n",
    "def start_message(message):\n",
    "    bot.send_message(message.chat.id,\"Привет ✌️ \")\n",
    "bot.infinity_poling()"
   ]
  },
  {
   "cell_type": "code",
   "execution_count": null,
   "id": "7db140cd",
   "metadata": {},
   "outputs": [],
   "source": [
    "def send_tip():\n",
    "    Timer(2.0, send_tip).start()\n",
    "    bot.send_message(chat_id, config.get_random_wisdom('one'))\n",
    "\n",
    "@bot.message_handler(commands=['start'])\n",
    "def welcome(message):\n",
    "    \n",
    "    bot.send_message(message.chat.id, \"Please, be kind and grateful for people\",\n",
    "        parse_mode='html')\n",
    "    with open('chat_id.txt', 'w') as f:\n",
    "        print(message.chat.id, file=f)\n",
    "    print(message.chat.id)\n",
    "\n",
    "#Run\n",
    "bot.polling(none_stop=True) # это как While(True)\n",
    "\n",
    "\n",
    "from requests import get\n",
    "from bs4 import BeautifulSoup\n",
    "import random\n",
    "\n",
    "def get_random_wisdom():\n",
    "    \n",
    "    webpage = get('https://www.oberlo.com/blog/motivational-quotes').text\n",
    "    wisdoms = [tag.get_text() \n",
    "        for tag in BeautifulSoup(webpage, 'html.parser').find_all('span') \n",
    "        if tag.get_text() and tag.get_text()[0] == '“' and \"–\" in tag.get_text()]\n",
    "    \n",
    "    return random.choice(wisdoms)\n",
    "\n",
    "\n",
    "\n",
    "get_random_wisdom()"
   ]
  },
  {
   "cell_type": "code",
   "execution_count": null,
   "id": "b01b585e",
   "metadata": {
    "scrolled": true
   },
   "outputs": [],
   "source": [
    "from wsgiref.simple_server import make_server\n",
    "from pyramid.config import Configurator\n",
    "from pyramid.view import view_config, view_defaults\n",
    "from pyramid.response import Response\n",
    "from github import Github\n",
    "\n",
    "ENDPOINT = \"webhook\"\n",
    "\n",
    "@view_defaults(\n",
    "    route_name=ENDPOINT, renderer=\"json\", request_method=\"POST\"\n",
    ")\n",
    "class PayloadView(object):\n",
    "    \"\"\"\n",
    "    View receiving of Github payload. By default, this view it's fired only if\n",
    "    the request is json and method POST.\n",
    "    \"\"\"\n",
    "\n",
    "    def __init__(self, request):\n",
    "        self.request = request\n",
    "        # Payload from Github, it's a dict\n",
    "        self.payload = self.request.json\n",
    "\n",
    "    @view_config(header=\"X-Github-Event:push\")\n",
    "    def payload_push(self):\n",
    "        \"\"\"This method is a continuation of PayloadView process, triggered if\n",
    "        header HTTP-X-Github-Event type is Push\"\"\"\n",
    "        print(\"No commits in push:\", len(self.payload['commits']))\n",
    "        return Response(\"success\")\n",
    "\n",
    "    @view_config(header=\"X-Github-Event:pull_request\")\n",
    "    def payload_pull_request(self):\n",
    "        \"\"\"This method is a continuation of PayloadView process, triggered if\n",
    "        header HTTP-X-Github-Event type is Pull Request\"\"\"\n",
    "        print(\"PR\", self.payload['action'])\n",
    "        print(\"No. Commits in PR:\", self.payload['pull_request']['commits'])\n",
    "\n",
    "        return Response(\"success\")\n",
    "\n",
    "    @view_config(header=\"X-Github-Event:ping\")\n",
    "    def payload_else(self):\n",
    "        print(\"Pinged! Webhook created with id {}!\".format(self.payload[\"hook\"][\"id\"]))\n",
    "        return {\"status\": 200}\n",
    "\n",
    "\n",
    "def create_webhook():\n",
    "    \"\"\" Creates a webhook for the specified repository.\n",
    "\n",
    "    This is a programmatic approach to creating webhooks with PyGithub's API. If you wish, this can be done\n",
    "    manually at your repository's page on Github in the \"Settings\" section. There is a option there to work with\n",
    "    and configure Webhooks.\n",
    "    \"\"\"\n",
    "\n",
    "    GITHUB_TOKEN = github_token\n",
    "    USERNAME = \"ul611\"\n",
    "    PASSWORD = \"\"\n",
    "    OWNER = \"\"\n",
    "    REPO_NAME = \"Linux_features_42tests\"\n",
    "    EVENTS = [\"push\"]\n",
    "    HOST = \"ul611\"\n",
    "\n",
    "    config = {\n",
    "        \"url\": f\"http://{HOST}/{ENDPOINT}\".format(host=HOST, endpoint=ENDPOINT),\n",
    "        \"content_type\": \"json\"\n",
    "    }\n",
    "\n",
    "    g = Github(GITHUB_TOKEN)\n",
    "    repo = g.get_repo(f\"{USERNAME}/{REPO_NAME}\".format(owner=OWNER, repo_name=REPO_NAME))\n",
    "    repo.create_hook(\"web\", config, EVENTS, active=True)\n",
    "\n",
    "\n",
    "if __name__ == \"__main__\":\n",
    "    config = Configurator()\n",
    "\n",
    "    create_webhook()\n",
    "\n",
    "    config.add_route(ENDPOINT, \"/{}\".format(ENDPOINT))\n",
    "    config.scan()\n",
    "\n",
    "    app = config.make_wsgi_app()\n",
    "    server = make_server(\"0.0.0.0\", 80, app)\n",
    "    server.serve_forever()"
   ]
  },
  {
   "cell_type": "code",
   "execution_count": null,
   "id": "189b18cb",
   "metadata": {},
   "outputs": [],
   "source": [
    "# sha -> commit on which the status check will be created\n",
    "# For example, for a webhook payload\n",
    "sha = data[\"pull_request\"][\"head\"][\"sha\"]\n",
    "repo.get_commit(sha=sha).create_status(\n",
    "    state=\"pending\",\n",
    "    target_url=\"https://FooCI.com\",\n",
    "    description=\"FooCI is building\",\n",
    "    context=\"ci/FooCI\"\n",
    ")"
   ]
  }
 ],
 "metadata": {
  "hide_input": false,
  "kernelspec": {
   "display_name": "Python 3 (ipykernel)",
   "language": "python",
   "name": "python3"
  },
  "language_info": {
   "codemirror_mode": {
    "name": "ipython",
    "version": 3
   },
   "file_extension": ".py",
   "mimetype": "text/x-python",
   "name": "python",
   "nbconvert_exporter": "python",
   "pygments_lexer": "ipython3",
   "version": "3.9.12"
  },
  "toc": {
   "base_numbering": 1,
   "nav_menu": {},
   "number_sections": true,
   "sideBar": true,
   "skip_h1_title": false,
   "title_cell": "Table of Contents",
   "title_sidebar": "Contents",
   "toc_cell": false,
   "toc_position": {},
   "toc_section_display": true,
   "toc_window_display": false
  },
  "varInspector": {
   "cols": {
    "lenName": 16,
    "lenType": 16,
    "lenVar": 40
   },
   "kernels_config": {
    "python": {
     "delete_cmd_postfix": "",
     "delete_cmd_prefix": "del ",
     "library": "var_list.py",
     "varRefreshCmd": "print(var_dic_list())"
    },
    "r": {
     "delete_cmd_postfix": ") ",
     "delete_cmd_prefix": "rm(",
     "library": "var_list.r",
     "varRefreshCmd": "cat(var_dic_list()) "
    }
   },
   "types_to_exclude": [
    "module",
    "function",
    "builtin_function_or_method",
    "instance",
    "_Feature"
   ],
   "window_display": false
  }
 },
 "nbformat": 4,
 "nbformat_minor": 5
}
